{
 "cells": [
  {
   "cell_type": "code",
   "execution_count": 1,
   "id": "3f656307-e777-49c3-af94-8d11b4b7ba0e",
   "metadata": {},
   "outputs": [],
   "source": [
    "import numpy as np\n",
    "import matplotlib.pyplot as plt\n",
    "import torch\n",
    "import torchvision\n",
    "import torchvision.transforms as transforms\n",
    "import torch.nn as nn\n",
    "import torch.nn.functional as F\n",
    "import torch.optim as optim\n",
    "from torch.utils.data import Subset\n",
    "from pnu_learning import PNULearning\n",
    "%matplotlib inline"
   ]
  },
  {
   "cell_type": "code",
   "execution_count": 2,
   "id": "5133879e-848c-4d7d-864d-c35334d74b0e",
   "metadata": {},
   "outputs": [],
   "source": [
    "transform = transforms.Compose([transforms.ToTensor()])\n",
    "trainset = torchvision.datasets.FashionMNIST(root='./data', train=True, download=True, transform=transform)"
   ]
  },
  {
   "cell_type": "code",
   "execution_count": 3,
   "id": "0f0b9a54-a743-4fe4-8885-e1ba338abddc",
   "metadata": {},
   "outputs": [],
   "source": [
    "testset = torchvision.datasets.FashionMNIST(root='./data', train=False, download=True, transform=transform)"
   ]
  },
  {
   "cell_type": "code",
   "execution_count": 4,
   "id": "8f990919-5fff-4548-85ec-1a8f3c8153e3",
   "metadata": {},
   "outputs": [
    {
     "data": {
      "text/plain": [
       "Dataset FashionMNIST\n",
       "    Number of datapoints: 10000\n",
       "    Root location: ./data\n",
       "    Split: Test\n",
       "    StandardTransform\n",
       "Transform: Compose(\n",
       "               ToTensor()\n",
       "           )"
      ]
     },
     "execution_count": 4,
     "metadata": {},
     "output_type": "execute_result"
    }
   ],
   "source": [
    "testset"
   ]
  },
  {
   "cell_type": "code",
   "execution_count": 5,
   "id": "2f25b4e8-20c2-4c9c-9546-527f2017228e",
   "metadata": {},
   "outputs": [
    {
     "data": {
      "text/plain": [
       "Dataset FashionMNIST\n",
       "    Number of datapoints: 60000\n",
       "    Root location: ./data\n",
       "    Split: Train\n",
       "    StandardTransform\n",
       "Transform: Compose(\n",
       "               ToTensor()\n",
       "           )"
      ]
     },
     "execution_count": 5,
     "metadata": {},
     "output_type": "execute_result"
    }
   ],
   "source": [
    "trainset"
   ]
  },
  {
   "cell_type": "code",
   "execution_count": 6,
   "id": "8a4fc95f-f110-4382-aa57-0f99680b391a",
   "metadata": {},
   "outputs": [],
   "source": [
    "x_train, y_train = trainset.data, trainset.targets"
   ]
  },
  {
   "cell_type": "code",
   "execution_count": 7,
   "id": "9a36f082-d65a-4e44-9b8f-adb8c86efc3e",
   "metadata": {},
   "outputs": [],
   "source": [
    "x_test, y_test = testset.data, testset.targets"
   ]
  },
  {
   "cell_type": "code",
   "execution_count": 8,
   "id": "cd38ffbd-c134-4a51-bab2-966bda0351bf",
   "metadata": {},
   "outputs": [],
   "source": [
    "#label = {0, 1}だけのデータで2値分類に\n",
    "x_train = np.array(x_train).astype(np.float32) / 255.\n",
    "y_train = np.array(y_train).reshape(-1)\n",
    "x_test = np.array(x_test).astype(np.float32) / 255.\n",
    "y_test = np.array(y_test).reshape(-1)\n",
    "\n",
    "\n",
    "#label = {0, 1}だけのデータで2値分類\n",
    "y_train[y_train == 0] = -1\n",
    "y_train[y_train == 1] = 1\n",
    "y_test[y_test == 0] = -1\n",
    "y_test[y_test == 1] = 1\n",
    "\n",
    "\n",
    "# ラベルごとにデータを分割\n",
    "positive_indices_train = np.where(y_train == 1)[0]\n",
    "negative_indices_train = np.where(y_train == -1)[0]\n",
    "positive_indices_test = np.where(y_test == 1)[0]\n",
    "negative_indices_test = np.where(y_test == -1)[0]\n",
    "\n",
    "# ラベル付きデータの数\n",
    "n_labeled = 100\n",
    "\n",
    "# 正例のラベル付きデータと負例のラベル付きデータをランダムに選択\n",
    "np.random.seed(seed=46)\n",
    "positive_labeled_indices = np.random.choice(positive_indices_train, int(0.5 * n_labeled))\n",
    "negative_labeled_indices = np.random.choice(negative_indices_train, int(0.5 * n_labeled))\n",
    "\n",
    "# ラベル付きデータ\n",
    "x_labeled = np.concatenate((x_train[positive_labeled_indices], x_train[negative_labeled_indices]), axis=0)\n",
    "y_labeled = np.concatenate((y_train[positive_labeled_indices], y_train[negative_labeled_indices]), axis=0)\n",
    "\n",
    "# ラベルなしデータ\n",
    "positive_unlabeled_indices = np.setdiff1d(positive_indices_train, positive_labeled_indices)\n",
    "negative_unlabeled_indices = np.setdiff1d(negative_indices_train, negative_labeled_indices)\n",
    "x_unlabeled = np.concatenate((x_train[positive_unlabeled_indices], x_train[negative_unlabeled_indices]), axis=0)\n",
    "y_unlabeled = np.zeros(len(x_unlabeled))\n",
    "\n",
    "# 学習データの結合\n",
    "x_train = np.concatenate((x_labeled, x_unlabeled), axis=0)\n",
    "y_train = np.concatenate((y_labeled, y_unlabeled), axis=0)\n",
    "\n",
    "# ラベル付きデータとラベルなしデータの数\n",
    "n_labeled = len(y_labeled)\n",
    "n_unlabeled = len(y_unlabeled)\n",
    "\n",
    "# 学習データの形状\n",
    "input_shape = x_train.shape[1:]\n",
    "\n",
    "# 学習データの正例の数と事前確率の計算\n",
    "n_positive_labeled = np.sum(y_train == 1)\n",
    "prior = n_positive_labeled / n_labeled\n",
    "\n",
    "#テストデータ\n",
    "x_test = x_test[(y_test==1) | (y_test==-1)]\n",
    "y_test = y_test[(y_test==1) | (y_test==-1)]"
   ]
  },
  {
   "cell_type": "code",
   "execution_count": 9,
   "id": "9762486b",
   "metadata": {},
   "outputs": [
    {
     "data": {
      "text/plain": [
       "0.5"
      ]
     },
     "execution_count": 9,
     "metadata": {},
     "output_type": "execute_result"
    }
   ],
   "source": [
    "prior"
   ]
  },
  {
   "cell_type": "code",
   "execution_count": 10,
   "id": "07608acf",
   "metadata": {},
   "outputs": [
    {
     "data": {
      "text/plain": [
       "(12000, 28, 28)"
      ]
     },
     "execution_count": 10,
     "metadata": {},
     "output_type": "execute_result"
    }
   ],
   "source": [
    "x_train.shape"
   ]
  },
  {
   "cell_type": "code",
   "execution_count": 11,
   "id": "dd13fed8",
   "metadata": {},
   "outputs": [
    {
     "data": {
      "text/plain": [
       "(2000, 28, 28)"
      ]
     },
     "execution_count": 11,
     "metadata": {},
     "output_type": "execute_result"
    }
   ],
   "source": [
    "x_test.shape"
   ]
  },
  {
   "cell_type": "code",
   "execution_count": 12,
   "id": "7ac4a626-2247-4200-853e-ed61e59f3273",
   "metadata": {
    "tags": []
   },
   "outputs": [],
   "source": [
    "class CNNModel(nn.Module):\n",
    "    \n",
    "    def __init__(self):\n",
    "        super(CNNModel, self).__init__()\n",
    "        \n",
    "        self.convlayer1 = nn.Sequential(\n",
    "            nn.Conv2d(1, 32, 3,padding=1),\n",
    "            nn.BatchNorm2d(32),\n",
    "            nn.ReLU(),\n",
    "            nn.MaxPool2d(kernel_size=2, stride=2)\n",
    "        )\n",
    "        \n",
    "        self.convlayer2 = nn.Sequential(\n",
    "            nn.Conv2d(32,64,3),\n",
    "            nn.BatchNorm2d(64),\n",
    "            nn.ReLU(),\n",
    "            nn.MaxPool2d(2)\n",
    "        )\n",
    "        \n",
    "        self.fc1 = nn.Linear(64*6*6,600)\n",
    "        self.drop = nn.Dropout2d(0.25)\n",
    "        self.fc2 = nn.Linear(600, 120)\n",
    "        self.fc3 = nn.Linear(120, 1)\n",
    "        \n",
    "    def forward(self, x):\n",
    "        x = self.convlayer1(x)\n",
    "        x = self.convlayer2(x)\n",
    "        x = x.view(-1,64*6*6)\n",
    "        x = self.fc1(x)\n",
    "        x = self.drop(x)\n",
    "        x = self.fc2(x)\n",
    "        x = self.fc3(x)\n",
    "        return x\n",
    "    "
   ]
  },
  {
   "cell_type": "code",
   "execution_count": 13,
   "id": "139b89b0-5995-4c02-a819-5792f1bb4a16",
   "metadata": {},
   "outputs": [],
   "source": [
    "model = CNNModel()\n",
    "loss_func = torch.sigmoid\n",
    "optimizer = optim.Adam\n",
    "lr = 1e-5\n",
    "n_epoch = 10\n",
    "batch_size = 1000\n",
    "\n",
    "p_ratio = prior\n",
    "eta = 0.2"
   ]
  },
  {
   "cell_type": "code",
   "execution_count": 14,
   "id": "b6a6e197-22b9-402b-9a30-542c3504afbc",
   "metadata": {},
   "outputs": [
    {
     "name": "stdout",
     "output_type": "stream",
     "text": [
      "cuda:0\n"
     ]
    }
   ],
   "source": [
    "device = torch.device(\"cuda:0\" if torch.cuda.is_available() else \"cpu\")\n",
    "print(device)"
   ]
  },
  {
   "cell_type": "code",
   "execution_count": 15,
   "id": "789f22f6-3d75-4ec1-aac6-f9f5c3a908ab",
   "metadata": {},
   "outputs": [],
   "source": [
    "learner = PNULearning(model=model, loss_func=loss_func, optimizer=optimizer, lr=lr, p_ratio=p_ratio, eta=eta, device=device)"
   ]
  },
  {
   "cell_type": "code",
   "execution_count": 16,
   "id": "202fdbc0-996c-44b1-bda4-2b0ceb19e667",
   "metadata": {},
   "outputs": [
    {
     "name": "stdout",
     "output_type": "stream",
     "text": [
      "epoch: 1/10\n"
     ]
    },
    {
     "name": "stderr",
     "output_type": "stream",
     "text": [
      "/home/kiryu_asakura_monotaro_com/.local/share/virtualenvs/demand_forecast_DNN-3mvUAJM5/lib/python3.7/site-packages/torch/nn/functional.py:1331: UserWarning: dropout2d: Received a 2-D input to dropout2d, which is deprecated and will result in an error in a future release. To retain the behavior and silence this warning, please use dropout instead. Note that dropout2d exists to provide channel-wise dropout on inputs with 2 spatial dimensions, a channel dimension, and an optional batch dimension (i.e. 3D or 4D inputs).\n",
      "  warnings.warn(warn_msg)\n"
     ]
    },
    {
     "name": "stdout",
     "output_type": "stream",
     "text": [
      "loss: 0.4882, acc: 0.6944, precision: 0.6875, recall: 0.9167\n",
      "loss: 0.4965, acc: 0.6058, precision: 0.5917, recall: 0.8333\n",
      "loss: 0.4875, acc: 0.6731, precision: 0.6438, recall: 0.8750\n",
      "loss: 0.4825, acc: 0.6785, precision: 0.6400, recall: 0.9000\n",
      "loss: 0.4773, acc: 0.6987, precision: 0.6583, recall: 0.9167\n",
      "loss: 0.4750, acc: 0.6942, precision: 0.6357, recall: 0.9286\n",
      "loss: 0.4723, acc: 0.7116, precision: 0.6396, recall: 0.9375\n",
      "loss: 0.4670, acc: 0.7436, precision: 0.6796, recall: 0.9444\n",
      "loss: 0.4633, acc: 0.7492, precision: 0.6917, recall: 0.9300\n",
      "loss: 0.4596, acc: 0.7720, precision: 0.7197, recall: 0.9364\n",
      "loss: 0.4562, acc: 0.7910, precision: 0.7431, recall: 0.9417\n",
      "test_loss: 0.3848, test_acc: 0.9045, test_precision: 0.8615, test_recall: 0.9640\n",
      "epoch: 2/10\n",
      "loss: 0.3895, acc: 1.0000, precision: 1.0000, recall: 1.0000\n",
      "loss: 0.3967, acc: 0.9583, precision: 0.9444, recall: 1.0000\n",
      "loss: 0.3992, acc: 0.9410, precision: 0.9083, recall: 1.0000\n",
      "loss: 0.3882, acc: 0.9528, precision: 0.9267, recall: 1.0000\n",
      "loss: 0.3869, acc: 0.9455, precision: 0.9389, recall: 0.9722\n",
      "loss: 0.3857, acc: 0.9533, precision: 0.9476, recall: 0.9762\n",
      "loss: 0.3826, acc: 0.9591, precision: 0.9542, recall: 0.9792\n",
      "loss: 0.3758, acc: 0.9637, precision: 0.9593, recall: 0.9815\n",
      "loss: 0.3734, acc: 0.9673, precision: 0.9633, recall: 0.9833\n",
      "loss: 0.3746, acc: 0.9703, precision: 0.9667, recall: 0.9848\n",
      "loss: 0.3730, acc: 0.9727, precision: 0.9694, recall: 0.9861\n",
      "test_loss: 0.3442, test_acc: 0.9400, test_precision: 0.9391, test_recall: 0.9410\n",
      "epoch: 3/10\n",
      "loss: 0.3441, acc: 1.0000, precision: 1.0000, recall: 1.0000\n",
      "loss: 0.3464, acc: 0.9722, precision: 1.0000, recall: 0.9333\n",
      "loss: 0.3349, acc: 0.9479, precision: 0.9167, recall: 0.9500\n",
      "loss: 0.3279, acc: 0.9583, precision: 0.9333, recall: 0.9600\n",
      "loss: 0.3192, acc: 0.9653, precision: 0.9444, recall: 0.9667\n",
      "loss: 0.3128, acc: 0.9702, precision: 0.9524, recall: 0.9714\n",
      "loss: 0.3123, acc: 0.9531, precision: 0.9167, recall: 0.9750\n",
      "loss: 0.3118, acc: 0.9460, precision: 0.9259, recall: 0.9593\n",
      "loss: 0.3041, acc: 0.9514, precision: 0.9333, recall: 0.9633\n",
      "loss: 0.3023, acc: 0.9558, precision: 0.9394, recall: 0.9667\n",
      "loss: 0.3014, acc: 0.9595, precision: 0.9444, recall: 0.9694\n",
      "test_loss: 0.2593, test_acc: 0.9455, test_precision: 0.9381, test_recall: 0.9540\n",
      "epoch: 4/10\n",
      "loss: 0.2555, acc: 1.0000, precision: 1.0000, recall: 1.0000\n",
      "loss: 0.2624, acc: 1.0000, precision: 1.0000, recall: 1.0000\n",
      "loss: 0.2747, acc: 0.9722, precision: 1.0000, recall: 0.9583\n",
      "loss: 0.2692, acc: 0.9778, precision: 1.0000, recall: 0.9667\n",
      "loss: 0.2608, acc: 0.9815, precision: 1.0000, recall: 0.9722\n",
      "loss: 0.2568, acc: 0.9663, precision: 0.9524, recall: 0.9762\n",
      "loss: 0.2543, acc: 0.9705, precision: 0.9583, recall: 0.9792\n",
      "loss: 0.2478, acc: 0.9738, precision: 0.9630, recall: 0.9815\n",
      "loss: 0.2450, acc: 0.9764, precision: 0.9667, recall: 0.9833\n",
      "loss: 0.2498, acc: 0.9694, precision: 0.9394, recall: 0.9848\n",
      "loss: 0.2424, acc: 0.9720, precision: 0.9444, recall: 0.9861\n",
      "test_loss: 0.1615, test_acc: 0.9465, test_precision: 0.9348, test_recall: 0.9600\n",
      "epoch: 5/10\n",
      "loss: 0.2650, acc: 0.8286, precision: 0.6333, recall: 1.0000\n",
      "loss: 0.2233, acc: 0.8857, precision: 0.7556, recall: 1.0000\n",
      "loss: 0.1964, acc: 0.9143, precision: 0.8167, recall: 1.0000\n",
      "loss: 0.2054, acc: 0.9148, precision: 0.8533, recall: 0.9750\n",
      "loss: 0.2006, acc: 0.9290, precision: 0.8778, recall: 0.9792\n",
      "loss: 0.1908, acc: 0.9391, precision: 0.8952, recall: 0.9821\n",
      "loss: 0.1952, acc: 0.9371, precision: 0.8833, recall: 0.9844\n",
      "loss: 0.1962, acc: 0.9441, precision: 0.8963, recall: 0.9861\n",
      "loss: 0.1935, acc: 0.9397, precision: 0.9067, recall: 0.9750\n",
      "loss: 0.1904, acc: 0.9452, precision: 0.9152, recall: 0.9773\n",
      "loss: 0.1892, acc: 0.9497, precision: 0.9222, recall: 0.9792\n",
      "test_loss: 0.0936, test_acc: 0.9475, test_precision: 0.9366, test_recall: 0.9600\n",
      "epoch: 6/10\n",
      "loss: 0.1499, acc: 1.0000, precision: 1.0000, recall: 1.0000\n",
      "loss: 0.1470, acc: 1.0000, precision: 1.0000, recall: 1.0000\n",
      "loss: 0.1621, acc: 1.0000, precision: 1.0000, recall: 1.0000\n",
      "loss: 0.1658, acc: 0.9846, precision: 1.0000, recall: 0.9600\n",
      "loss: 0.1629, acc: 0.9872, precision: 1.0000, recall: 0.9667\n",
      "loss: 0.1596, acc: 0.9890, precision: 1.0000, recall: 0.9714\n",
      "loss: 0.1677, acc: 0.9725, precision: 0.9750, recall: 0.9750\n",
      "loss: 0.1704, acc: 0.9632, precision: 0.9500, recall: 0.9778\n",
      "loss: 0.1759, acc: 0.9578, precision: 0.9550, recall: 0.9550\n",
      "loss: 0.1722, acc: 0.9617, precision: 0.9591, recall: 0.9591\n",
      "loss: 0.1701, acc: 0.9648, precision: 0.9625, recall: 0.9625\n",
      "test_loss: 0.0557, test_acc: 0.9510, test_precision: 0.9439, test_recall: 0.9590\n",
      "epoch: 7/10\n",
      "loss: 0.1292, acc: 1.0000, precision: 1.0000, recall: 1.0000\n",
      "loss: 0.1171, acc: 1.0000, precision: 1.0000, recall: 1.0000\n",
      "loss: 0.1029, acc: 1.0000, precision: 1.0000, recall: 1.0000\n",
      "loss: 0.1004, acc: 1.0000, precision: 1.0000, recall: 1.0000\n",
      "loss: 0.1086, acc: 1.0000, precision: 1.0000, recall: 1.0000\n",
      "loss: 0.1172, acc: 0.9890, precision: 0.9796, recall: 1.0000\n",
      "loss: 0.1146, acc: 0.9904, precision: 0.9821, recall: 1.0000\n",
      "loss: 0.1276, acc: 0.9637, precision: 0.9563, recall: 0.9722\n",
      "loss: 0.1283, acc: 0.9673, precision: 0.9607, recall: 0.9750\n",
      "loss: 0.1274, acc: 0.9703, precision: 0.9643, recall: 0.9773\n",
      "loss: 0.1299, acc: 0.9728, precision: 0.9673, recall: 0.9792\n",
      "test_loss: 0.0314, test_acc: 0.9500, test_precision: 0.9395, test_recall: 0.9620\n",
      "epoch: 8/10\n",
      "loss: 0.0849, acc: 0.9500, precision: 0.9167, recall: 1.0000\n",
      "loss: 0.0926, acc: 0.9296, precision: 0.8889, recall: 1.0000\n",
      "loss: 0.1128, acc: 0.9472, precision: 0.9167, recall: 1.0000\n",
      "loss: 0.1036, acc: 0.9578, precision: 0.9333, recall: 1.0000\n",
      "loss: 0.0994, acc: 0.9648, precision: 0.9444, recall: 1.0000\n",
      "loss: 0.0975, acc: 0.9698, precision: 0.9524, recall: 1.0000\n",
      "loss: 0.1170, acc: 0.9509, precision: 0.9333, recall: 0.9750\n",
      "loss: 0.1226, acc: 0.9440, precision: 0.9249, recall: 0.9778\n",
      "loss: 0.1185, acc: 0.9496, precision: 0.9324, recall: 0.9800\n",
      "loss: 0.1200, acc: 0.9542, precision: 0.9385, recall: 0.9818\n",
      "loss: 0.1153, acc: 0.9580, precision: 0.9437, recall: 0.9833\n",
      "test_loss: 0.0168, test_acc: 0.9515, test_precision: 0.9422, test_recall: 0.9620\n",
      "epoch: 9/10\n",
      "loss: 0.1195, acc: 0.9444, precision: 0.9167, recall: 1.0000\n",
      "loss: 0.1143, acc: 0.9630, precision: 0.9444, recall: 1.0000\n",
      "loss: 0.1082, acc: 0.9722, precision: 0.9583, recall: 1.0000\n",
      "loss: 0.1107, acc: 0.9778, precision: 0.9667, recall: 1.0000\n",
      "loss: 0.1075, acc: 0.9815, precision: 0.9722, recall: 1.0000\n",
      "loss: 0.1221, acc: 0.9524, precision: 0.9524, recall: 0.9762\n",
      "loss: 0.1193, acc: 0.9470, precision: 0.9375, recall: 0.9792\n",
      "loss: 0.1131, acc: 0.9529, precision: 0.9444, recall: 0.9815\n",
      "loss: 0.1115, acc: 0.9576, precision: 0.9500, recall: 0.9833\n",
      "loss: 0.1084, acc: 0.9614, precision: 0.9545, recall: 0.9848\n",
      "loss: 0.1029, acc: 0.9646, precision: 0.9583, recall: 0.9861\n",
      "test_loss: 0.0056, test_acc: 0.9555, test_precision: 0.9497, test_recall: 0.9620\n",
      "epoch: 10/10\n",
      "loss: 0.0565, acc: 1.0000, precision: 1.0000, recall: 1.0000\n",
      "loss: 0.0513, acc: 1.0000, precision: 1.0000, recall: 1.0000\n",
      "loss: 0.0586, acc: 1.0000, precision: 1.0000, recall: 1.0000\n",
      "loss: 0.0638, acc: 1.0000, precision: 1.0000, recall: 1.0000\n",
      "loss: 0.0631, acc: 1.0000, precision: 1.0000, recall: 1.0000\n",
      "loss: 0.0708, acc: 1.0000, precision: 1.0000, recall: 1.0000\n",
      "loss: 0.0709, acc: 1.0000, precision: 1.0000, recall: 1.0000\n",
      "loss: 0.0710, acc: 1.0000, precision: 1.0000, recall: 1.0000\n",
      "loss: 0.0764, acc: 0.9900, precision: 0.9750, recall: 1.0000\n",
      "loss: 0.0779, acc: 0.9909, precision: 0.9773, recall: 1.0000\n",
      "loss: 0.1090, acc: 0.9500, precision: 0.9375, recall: 0.9583\n",
      "test_loss: -0.0027, test_acc: 0.9560, test_precision: 0.9542, test_recall: 0.9580\n"
     ]
    }
   ],
   "source": [
    "train_loss_history, train_acc_history, train_precision_history, train_recall_history, \\\n",
    "    test_loss_history, test_acc_history, test_precision_history, test_recall_history = learner.fit(x_train, y_train, x_test, y_test, n_epoch, batch_size, threshold=0, verbose=1)"
   ]
  },
  {
   "cell_type": "code",
   "execution_count": 17,
   "id": "c0d78bb8-07e1-4b3e-92bb-d868f1d0d654",
   "metadata": {},
   "outputs": [
    {
     "data": {
      "image/png": "[encoded data removed]",
      "text/plain": [
       "<Figure size 640x480 with 1 Axes>"
      ]
     },
     "metadata": {},
     "output_type": "display_data"
    }
   ],
   "source": [
    "plt.plot([i+1 for i in range(n_epoch)], train_loss_history, label=\"train_loss\")\n",
    "plt.plot([i+1 for i in range(n_epoch)], test_loss_history, label=\"test_loss\")\n",
    "plt.legend()\n",
    "plt.show()"
   ]
  },
  {
   "cell_type": "code",
   "execution_count": 18,
   "id": "61f27996-6ea4-42f4-ab18-7f1728bd1319",
   "metadata": {},
   "outputs": [
    {
     "data": {
      "image/png": "[encoded data removed]",
      "text/plain": [
       "<Figure size 640x480 with 1 Axes>"
      ]
     },
     "metadata": {},
     "output_type": "display_data"
    }
   ],
   "source": [
    "plt.plot([i+1 for i in range(n_epoch)], train_acc_history, label=\"train_accuracy\")\n",
    "plt.plot([i+1 for i in range(n_epoch)], test_acc_history, label=\"test_accuracy\")\n",
    "plt.ylim(0, 1.1)\n",
    "plt.legend()\n",
    "plt.show()"
   ]
  },
  {
   "cell_type": "code",
   "execution_count": 19,
   "id": "2f5e45fc-6315-44bb-8244-23e3ecd75381",
   "metadata": {},
   "outputs": [
    {
     "data": {
      "image/png": "[encoded data removed]",
      "text/plain": [
       "<Figure size 640x480 with 1 Axes>"
      ]
     },
     "metadata": {},
     "output_type": "display_data"
    }
   ],
   "source": [
    "plt.plot([i+1 for i in range(n_epoch)], train_precision_history, label=\"train_precision\")\n",
    "plt.plot([i+1 for i in range(n_epoch)], test_precision_history, label=\"test_precision\")\n",
    "plt.ylim(0, 1.1)\n",
    "plt.legend()\n",
    "plt.show()"
   ]
  },
  {
   "cell_type": "code",
   "execution_count": 20,
   "id": "9b8531f9-f330-40e9-b884-3d2819b289df",
   "metadata": {},
   "outputs": [
    {
     "data": {
      "image/png": "[encoded data removed]",
      "text/plain": [
       "<Figure size 640x480 with 1 Axes>"
      ]
     },
     "metadata": {},
     "output_type": "display_data"
    }
   ],
   "source": [
    "plt.plot([i+1 for i in range(n_epoch)], train_recall_history, label=\"train_recall\")\n",
    "plt.plot([i+1 for i in range(n_epoch)], test_recall_history, label=\"test_recall\")\n",
    "plt.ylim(0, 1.1)\n",
    "plt.legend()\n",
    "plt.show()"
   ]
  },
  {
   "cell_type": "code",
   "execution_count": 21,
   "id": "75b2625f-4c8d-4884-9c9e-ceb57b33ea61",
   "metadata": {},
   "outputs": [],
   "source": [
    "pred = learner.predict(x_test)"
   ]
  },
  {
   "cell_type": "code",
   "execution_count": 22,
   "id": "36964677-0826-48cf-a41a-21d75763a946",
   "metadata": {},
   "outputs": [
    {
     "name": "stdout",
     "output_type": "stream",
     "text": [
      "torch.Size([2000])\n"
     ]
    }
   ],
   "source": [
    "print(pred.shape)"
   ]
  },
  {
   "cell_type": "code",
   "execution_count": null,
   "id": "e387006e-e26d-408b-9310-468f4498adf9",
   "metadata": {},
   "outputs": [],
   "source": []
  }
 ],
 "metadata": {
  "environment": {
   "kernel": "python3",
   "name": "pytorch-gpu.1-10.m87",
   "type": "gcloud",
   "uri": "gcr.io/deeplearning-platform-release/pytorch-gpu.1-10:m87"
  },
  "kernelspec": {
   "display_name": "Python 3",
   "language": "python",
   "name": "python3"
  },
  "language_info": {
   "codemirror_mode": {
    "name": "ipython",
    "version": 3
   },
   "file_extension": ".py",
   "mimetype": "text/x-python",
   "name": "python",
   "nbconvert_exporter": "python",
   "pygments_lexer": "ipython3",
   "version": "3.7.12"
  }
 },
 "nbformat": 4,
 "nbformat_minor": 5
}
